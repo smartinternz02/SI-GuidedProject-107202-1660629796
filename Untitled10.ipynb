{
 "cells": [
  {
   "cell_type": "markdown",
   "id": "c49527ce-33d1-4803-948a-0eb4a6817f1e",
   "metadata": {},
   "source": [
    "Hima Varsha M\n",
    "CSE C3\n",
    "40110741 "
   ]
  },
  {
   "cell_type": "code",
   "execution_count": null,
   "id": "797276ee-1f19-47a2-a9da-bb921fd29f92",
   "metadata": {},
   "outputs": [],
   "source": []
  },
  {
   "cell_type": "code",
   "execution_count": null,
   "id": "7c01e3f1-49d9-46af-9521-f1ade1deb812",
   "metadata": {},
   "outputs": [],
   "source": []
  },
  {
   "cell_type": "markdown",
   "id": "976a6dc0-1437-4bab-b858-b93657cdce10",
   "metadata": {},
   "source": [
    "1. What is 7 to the power of 4?"
   ]
  },
  {
   "cell_type": "code",
   "execution_count": 1,
   "id": "83ddf1da-0268-46cc-ba71-f053acd650e5",
   "metadata": {},
   "outputs": [
    {
     "data": {
      "text/plain": [
       "2401"
      ]
     },
     "execution_count": 1,
     "metadata": {},
     "output_type": "execute_result"
    }
   ],
   "source": [
    "7 ** 4"
   ]
  },
  {
   "cell_type": "markdown",
   "id": "c12bd891-8f4b-4187-9117-a18a484e3e53",
   "metadata": {},
   "source": [
    "2.  Split this string into a list. \n",
    "    s = \"Hi there Sam!\""
   ]
  },
  {
   "cell_type": "code",
   "execution_count": 2,
   "id": "22c2ae50-e59e-466b-9848-197804442900",
   "metadata": {},
   "outputs": [
    {
     "data": {
      "text/plain": [
       "['Hi', 'there', 'Sam!']"
      ]
     },
     "execution_count": 2,
     "metadata": {},
     "output_type": "execute_result"
    }
   ],
   "source": [
    "s = \"Hi there Sam!\"\n",
    "s.split()"
   ]
  },
  {
   "cell_type": "markdown",
   "id": "48ce0212-5467-4007-84e5-c350d60ca34c",
   "metadata": {},
   "source": [
    "3.Given the variables\n",
    "    planet = \"Earth\"\n",
    "    diameter = 12742\n",
    "Use .format() to print the following string\n",
    "The diameter of Earth is 12742 kilometer"
   ]
  },
  {
   "cell_type": "code",
   "execution_count": 3,
   "id": "74d259ba-4613-4bd9-942e-d041c9770946",
   "metadata": {},
   "outputs": [
    {
     "name": "stdout",
     "output_type": "stream",
     "text": [
      "The diameter of Earth is 12742 kilometers.\n"
     ]
    }
   ],
   "source": [
    "planet = \"Earth\"\n",
    "diameter = 12742\n",
    "\n",
    "print(\"The diameter of {} is {} kilometers.\".format(planet,diameter))"
   ]
  },
  {
   "cell_type": "markdown",
   "id": "7f22a3ef-1457-4c05-bd2d-7161f82089c8",
   "metadata": {},
   "source": [
    "4.Given this nested list, use indexing to grab the word \"hello\n",
    "    lst = [1,2,[3,4],[5,[100,200,['hello']],23,11],1,7]\n"
   ]
  },
  {
   "cell_type": "code",
   "execution_count": 4,
   "id": "f5d98bfa-5dfe-423f-b849-8d2a72cff281",
   "metadata": {},
   "outputs": [
    {
     "data": {
      "text/plain": [
       "'hello'"
      ]
     },
     "execution_count": 4,
     "metadata": {},
     "output_type": "execute_result"
    }
   ],
   "source": [
    "lst = [1,2,[3,4],[5,[100,200,['hello']],23,11],1,7]\n",
    "\n",
    "lst[3][1][2][0]"
   ]
  },
  {
   "cell_type": "markdown",
   "id": "80cda918-268d-4542-a4b2-b2634b8c7b84",
   "metadata": {},
   "source": [
    "5. Given this nested dictionary grab the word \"hello\". Be prepared, this will be annoying/tricky\n",
    "    d = {'k1':[1,2,3,{'tricky':['oh','man','inception',{'target':[1,2,3,'hello']}]}]}"
   ]
  },
  {
   "cell_type": "code",
   "execution_count": 5,
   "id": "0873973a-108d-4821-a8b3-4588c72236ce",
   "metadata": {},
   "outputs": [
    {
     "data": {
      "text/plain": [
       "'hello'"
      ]
     },
     "execution_count": 5,
     "metadata": {},
     "output_type": "execute_result"
    }
   ],
   "source": [
    "d = {'k1':[1,2,3,{'tricky':['oh','man','inception',{'target':[1,2,3,'hello']}]}]}\n",
    "\n",
    "d['k1'][3]['tricky'][3]['target'][3]"
   ]
  },
  {
   "cell_type": "markdown",
   "id": "5d83168e-48fd-44f1-a01f-d1e0e513f157",
   "metadata": {},
   "source": [
    "6.What is the main difference between a tuple and a list?"
   ]
  },
  {
   "cell_type": "markdown",
   "id": "342a134d-1c97-42a4-a80d-81c91f1b64ac",
   "metadata": {},
   "source": [
    "Lists are mutable whereas Tuples are immutable."
   ]
  },
  {
   "cell_type": "markdown",
   "id": "0d52028e-1724-4b96-85df-e065816b4d4c",
   "metadata": {},
   "source": [
    "7.Create a function that grabs the email website domain from a string in the form : user@domain.com\n",
    "    So for example, passing \"user@domain.com\" would return: domain.com\n"
   ]
  },
  {
   "cell_type": "code",
   "execution_count": 6,
   "id": "f2cd4325-e79f-4350-9596-bd487e8ca708",
   "metadata": {},
   "outputs": [
    {
     "data": {
      "text/plain": [
       "'domain.com'"
      ]
     },
     "execution_count": 6,
     "metadata": {},
     "output_type": "execute_result"
    }
   ],
   "source": [
    "def domainGet(email):\n",
    "    return email.split('@')[-1]\n",
    "domainGet('user@domain.com')"
   ]
  },
  {
   "cell_type": "markdown",
   "id": "f7ecca63-7bf4-46f4-9637-58e7912d54be",
   "metadata": {},
   "source": [
    "8. Create a basic function that returns True if the word 'dog' is contained in the input string. \n",
    "    Don't worry about edge cases like a punctuation being attached to the word dog, but do account for capitalization."
   ]
  },
  {
   "cell_type": "code",
   "execution_count": 7,
   "id": "98893160-5ccb-406b-8a53-2cbcf1d704df",
   "metadata": {},
   "outputs": [
    {
     "data": {
      "text/plain": [
       "True"
      ]
     },
     "execution_count": 7,
     "metadata": {},
     "output_type": "execute_result"
    }
   ],
   "source": [
    "def findDog(st):\n",
    "    return 'dog' in st.lower().split()\n",
    "findDog('Is there a dog here?')"
   ]
  },
  {
   "cell_type": "markdown",
   "id": "548b0a0f-6d22-46d1-984c-8b94c8d11c0f",
   "metadata": {},
   "source": [
    "9. Use lambda expressions and the filter() function to filter out words from a list that don't start with the letter 's'.\n",
    "    For example:\n",
    "    seq = ['soup','dog','salad','cat','great']\n",
    "    should be filtered down to:    ['soup','salad']\n"
   ]
  },
  {
   "cell_type": "code",
   "execution_count": 8,
   "id": "50fdc577-644f-4aa5-a1a3-44defa2322d4",
   "metadata": {},
   "outputs": [
    {
     "data": {
      "text/plain": [
       "['soup', 'salad']"
      ]
     },
     "execution_count": 8,
     "metadata": {},
     "output_type": "execute_result"
    }
   ],
   "source": [
    "seq = ['soup','dog','salad','cat','great']\n",
    "\n",
    "list(filter(lambda word: word[0]=='s',seq))"
   ]
  },
  {
   "cell_type": "markdown",
   "id": "363b49fa-e65c-456d-8c3c-a9e9c1628f3d",
   "metadata": {},
   "source": [
    "10. You are driving a little too fast, and a police officer stops you. Write a function\n",
    "      to return one of 3 possible results: \"No ticket\", \"Small ticket\", or \"Big Ticket\". \n",
    "      If your speed is 60 or less, the result is \"No Ticket\". If speed is between 61 \n",
    "      and 80 inclusive, the result is \"Small Ticket\". If speed is 81 or more, the result is \"Big    Ticket\".\n",
    "     Unless it is your birthday (encoded as a boolean value in the parameters of the function) --\n",
    "     on your birthday, your speed can be 5 higher in all cases. \n",
    "    "
   ]
  },
  {
   "cell_type": "code",
   "execution_count": 9,
   "id": "3714f91b-ceb6-44ca-93a7-c3e97a6f4bdd",
   "metadata": {},
   "outputs": [],
   "source": [
    "def caught_speeding(speed, is_birthday):\n",
    "    \n",
    "    if is_birthday:\n",
    "        speeding = speed - 5\n",
    "    else:\n",
    "        speeding = speed\n",
    "    \n",
    "    if speeding > 80:\n",
    "        return 'Big Ticket'\n",
    "    elif speeding > 60:\n",
    "        return 'Small Ticket'\n",
    "    else:\n",
    "        return 'No Ticket'"
   ]
  },
  {
   "cell_type": "code",
   "execution_count": 10,
   "id": "45ee35fe-948a-4125-86f0-c74726edb6de",
   "metadata": {},
   "outputs": [
    {
     "data": {
      "text/plain": [
       "'Small Ticket'"
      ]
     },
     "execution_count": 10,
     "metadata": {},
     "output_type": "execute_result"
    }
   ],
   "source": [
    "caught_speeding(81,True)"
   ]
  },
  {
   "cell_type": "code",
   "execution_count": 11,
   "id": "b7af1cf3-c9d2-47c0-bc19-6efa4370f14a",
   "metadata": {},
   "outputs": [
    {
     "data": {
      "text/plain": [
       "'Big Ticket'"
      ]
     },
     "execution_count": 11,
     "metadata": {},
     "output_type": "execute_result"
    }
   ],
   "source": [
    "caught_speeding(81,False)"
   ]
  },
  {
   "cell_type": "code",
   "execution_count": null,
   "id": "30b0f346-5a54-4708-bbbe-d3bc0b54b3b2",
   "metadata": {},
   "outputs": [],
   "source": []
  }
 ],
 "metadata": {
  "kernelspec": {
   "display_name": "Python 3 (ipykernel)",
   "language": "python",
   "name": "python3"
  },
  "language_info": {
   "codemirror_mode": {
    "name": "ipython",
    "version": 3
   },
   "file_extension": ".py",
   "mimetype": "text/x-python",
   "name": "python",
   "nbconvert_exporter": "python",
   "pygments_lexer": "ipython3",
   "version": "3.9.7"
  }
 },
 "nbformat": 4,
 "nbformat_minor": 5
}
